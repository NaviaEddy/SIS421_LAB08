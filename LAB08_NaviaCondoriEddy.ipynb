{
  "cells": [
    {
      "cell_type": "markdown",
      "metadata": {
        "id": "view-in-github",
        "colab_type": "text"
      },
      "source": [
        "<a href=\"https://colab.research.google.com/github/NaviaEddy/SIS421_LAB08/blob/main/LAB08_NaviaCondoriEddy.ipynb\" target=\"_parent\"><img src=\"https://colab.research.google.com/assets/colab-badge.svg\" alt=\"Open In Colab\"/></a>"
      ]
    },
    {
      "cell_type": "markdown",
      "id": "be2c0c13",
      "metadata": {
        "id": "be2c0c13"
      },
      "source": [
        "# Homework 3: Evaluating Generative Models\n",
        "\n",
        "We are going to practice how to evaluate generative models.\n",
        "The evaluation method is not limited to diffusion models, in fact, deep generative models such as GAN and Flow use this method widely.\n",
        "\n",
        "<span style=\"color:red\">It is necessary to have a GPU to complete LAB2.</span><br>\n",
        "<span style=\"color:red\">Its efficacy will not affect your completion of this lab. Colab free plan also works.</span>"
      ]
    },
    {
      "cell_type": "markdown",
      "id": "0e2d6e27",
      "metadata": {
        "id": "0e2d6e27"
      },
      "source": [
        "## Install Packages\n",
        "\n",
        "Install `torch`, `torchvision` and `pytorch_gan_metrics`.\n",
        "\n",
        "- Colab\n",
        "\n",
        "    Use system default `torch` and `torchvision` to avoid hardware incompatibility.\n",
        "    ```\n",
        "    pip install pytorch_gan_metrics\n",
        "    ```\n",
        "\n",
        "- Custom environment (include `conda` users)\n",
        "\n",
        "    Install all packages from pypi.\n",
        "    ```\n",
        "    pip install torch torchvision pytorch_gan_metrics\n",
        "    ```"
      ]
    },
    {
      "cell_type": "code",
      "source": [
        "!pip install pytorch_gan_metrics"
      ],
      "metadata": {
        "colab": {
          "base_uri": "https://localhost:8080/"
        },
        "id": "o2498Z39pEUX",
        "outputId": "71d1719c-65de-4838-f93f-d068b3fd6afd"
      },
      "id": "o2498Z39pEUX",
      "execution_count": 1,
      "outputs": [
        {
          "output_type": "stream",
          "name": "stdout",
          "text": [
            "Collecting pytorch_gan_metrics\n",
            "  Downloading pytorch_gan_metrics-0.5.3-py3-none-any.whl (18 kB)\n",
            "Requirement already satisfied: packaging in /usr/local/lib/python3.10/dist-packages (from pytorch_gan_metrics) (24.0)\n",
            "Requirement already satisfied: tqdm in /usr/local/lib/python3.10/dist-packages (from pytorch_gan_metrics) (4.66.4)\n",
            "Requirement already satisfied: scipy in /usr/local/lib/python3.10/dist-packages (from pytorch_gan_metrics) (1.11.4)\n",
            "Requirement already satisfied: torch>=1.8.2 in /usr/local/lib/python3.10/dist-packages (from pytorch_gan_metrics) (2.2.1+cu121)\n",
            "Requirement already satisfied: torchvision>=0.9.2 in /usr/local/lib/python3.10/dist-packages (from pytorch_gan_metrics) (0.17.1+cu121)\n",
            "Requirement already satisfied: filelock in /usr/local/lib/python3.10/dist-packages (from torch>=1.8.2->pytorch_gan_metrics) (3.14.0)\n",
            "Requirement already satisfied: typing-extensions>=4.8.0 in /usr/local/lib/python3.10/dist-packages (from torch>=1.8.2->pytorch_gan_metrics) (4.11.0)\n",
            "Requirement already satisfied: sympy in /usr/local/lib/python3.10/dist-packages (from torch>=1.8.2->pytorch_gan_metrics) (1.12)\n",
            "Requirement already satisfied: networkx in /usr/local/lib/python3.10/dist-packages (from torch>=1.8.2->pytorch_gan_metrics) (3.3)\n",
            "Requirement already satisfied: jinja2 in /usr/local/lib/python3.10/dist-packages (from torch>=1.8.2->pytorch_gan_metrics) (3.1.4)\n",
            "Requirement already satisfied: fsspec in /usr/local/lib/python3.10/dist-packages (from torch>=1.8.2->pytorch_gan_metrics) (2023.6.0)\n",
            "Collecting nvidia-cuda-nvrtc-cu12==12.1.105 (from torch>=1.8.2->pytorch_gan_metrics)\n",
            "  Using cached nvidia_cuda_nvrtc_cu12-12.1.105-py3-none-manylinux1_x86_64.whl (23.7 MB)\n",
            "Collecting nvidia-cuda-runtime-cu12==12.1.105 (from torch>=1.8.2->pytorch_gan_metrics)\n",
            "  Using cached nvidia_cuda_runtime_cu12-12.1.105-py3-none-manylinux1_x86_64.whl (823 kB)\n",
            "Collecting nvidia-cuda-cupti-cu12==12.1.105 (from torch>=1.8.2->pytorch_gan_metrics)\n",
            "  Using cached nvidia_cuda_cupti_cu12-12.1.105-py3-none-manylinux1_x86_64.whl (14.1 MB)\n",
            "Collecting nvidia-cudnn-cu12==8.9.2.26 (from torch>=1.8.2->pytorch_gan_metrics)\n",
            "  Using cached nvidia_cudnn_cu12-8.9.2.26-py3-none-manylinux1_x86_64.whl (731.7 MB)\n",
            "Collecting nvidia-cublas-cu12==12.1.3.1 (from torch>=1.8.2->pytorch_gan_metrics)\n",
            "  Using cached nvidia_cublas_cu12-12.1.3.1-py3-none-manylinux1_x86_64.whl (410.6 MB)\n",
            "Collecting nvidia-cufft-cu12==11.0.2.54 (from torch>=1.8.2->pytorch_gan_metrics)\n",
            "  Using cached nvidia_cufft_cu12-11.0.2.54-py3-none-manylinux1_x86_64.whl (121.6 MB)\n",
            "Collecting nvidia-curand-cu12==10.3.2.106 (from torch>=1.8.2->pytorch_gan_metrics)\n",
            "  Using cached nvidia_curand_cu12-10.3.2.106-py3-none-manylinux1_x86_64.whl (56.5 MB)\n",
            "Collecting nvidia-cusolver-cu12==11.4.5.107 (from torch>=1.8.2->pytorch_gan_metrics)\n",
            "  Using cached nvidia_cusolver_cu12-11.4.5.107-py3-none-manylinux1_x86_64.whl (124.2 MB)\n",
            "Collecting nvidia-cusparse-cu12==12.1.0.106 (from torch>=1.8.2->pytorch_gan_metrics)\n",
            "  Using cached nvidia_cusparse_cu12-12.1.0.106-py3-none-manylinux1_x86_64.whl (196.0 MB)\n",
            "Collecting nvidia-nccl-cu12==2.19.3 (from torch>=1.8.2->pytorch_gan_metrics)\n",
            "  Using cached nvidia_nccl_cu12-2.19.3-py3-none-manylinux1_x86_64.whl (166.0 MB)\n",
            "Collecting nvidia-nvtx-cu12==12.1.105 (from torch>=1.8.2->pytorch_gan_metrics)\n",
            "  Using cached nvidia_nvtx_cu12-12.1.105-py3-none-manylinux1_x86_64.whl (99 kB)\n",
            "Requirement already satisfied: triton==2.2.0 in /usr/local/lib/python3.10/dist-packages (from torch>=1.8.2->pytorch_gan_metrics) (2.2.0)\n",
            "Collecting nvidia-nvjitlink-cu12 (from nvidia-cusolver-cu12==11.4.5.107->torch>=1.8.2->pytorch_gan_metrics)\n",
            "  Using cached nvidia_nvjitlink_cu12-12.4.127-py3-none-manylinux2014_x86_64.whl (21.1 MB)\n",
            "Requirement already satisfied: numpy in /usr/local/lib/python3.10/dist-packages (from torchvision>=0.9.2->pytorch_gan_metrics) (1.25.2)\n",
            "Requirement already satisfied: pillow!=8.3.*,>=5.3.0 in /usr/local/lib/python3.10/dist-packages (from torchvision>=0.9.2->pytorch_gan_metrics) (9.4.0)\n",
            "Requirement already satisfied: MarkupSafe>=2.0 in /usr/local/lib/python3.10/dist-packages (from jinja2->torch>=1.8.2->pytorch_gan_metrics) (2.1.5)\n",
            "Requirement already satisfied: mpmath>=0.19 in /usr/local/lib/python3.10/dist-packages (from sympy->torch>=1.8.2->pytorch_gan_metrics) (1.3.0)\n",
            "Installing collected packages: nvidia-nvtx-cu12, nvidia-nvjitlink-cu12, nvidia-nccl-cu12, nvidia-curand-cu12, nvidia-cufft-cu12, nvidia-cuda-runtime-cu12, nvidia-cuda-nvrtc-cu12, nvidia-cuda-cupti-cu12, nvidia-cublas-cu12, nvidia-cusparse-cu12, nvidia-cudnn-cu12, nvidia-cusolver-cu12, pytorch_gan_metrics\n",
            "Successfully installed nvidia-cublas-cu12-12.1.3.1 nvidia-cuda-cupti-cu12-12.1.105 nvidia-cuda-nvrtc-cu12-12.1.105 nvidia-cuda-runtime-cu12-12.1.105 nvidia-cudnn-cu12-8.9.2.26 nvidia-cufft-cu12-11.0.2.54 nvidia-curand-cu12-10.3.2.106 nvidia-cusolver-cu12-11.4.5.107 nvidia-cusparse-cu12-12.1.0.106 nvidia-nccl-cu12-2.19.3 nvidia-nvjitlink-cu12-12.4.127 nvidia-nvtx-cu12-12.1.105 pytorch_gan_metrics-0.5.3\n"
          ]
        }
      ]
    },
    {
      "cell_type": "code",
      "source": [
        "!pip install torch torchvision pytorch_gan_metrics"
      ],
      "metadata": {
        "colab": {
          "base_uri": "https://localhost:8080/"
        },
        "id": "d0Htio1RpOSF",
        "outputId": "c8cfe365-1ee8-48a4-af8b-5dd858bea5ba"
      },
      "id": "d0Htio1RpOSF",
      "execution_count": 2,
      "outputs": [
        {
          "output_type": "stream",
          "name": "stdout",
          "text": [
            "/bin/bash: line 1: pip install torch torchvision pytorch_gan_metrics: command not found\n"
          ]
        }
      ]
    },
    {
      "cell_type": "code",
      "source": [
        "!pip install einops"
      ],
      "metadata": {
        "colab": {
          "base_uri": "https://localhost:8080/"
        },
        "id": "PR6oJ9ZFpj_m",
        "outputId": "3f8cd6b6-5fc3-42b8-e765-6a5d9f509459"
      },
      "id": "PR6oJ9ZFpj_m",
      "execution_count": 3,
      "outputs": [
        {
          "output_type": "stream",
          "name": "stdout",
          "text": [
            "Collecting einops\n",
            "  Downloading einops-0.8.0-py3-none-any.whl (43 kB)\n",
            "\u001b[2K     \u001b[90m━━━━━━━━━━━━━━━━━━━━━━━━━━━━━━━━━━━━━━━━\u001b[0m \u001b[32m43.2/43.2 kB\u001b[0m \u001b[31m622.1 kB/s\u001b[0m eta \u001b[36m0:00:00\u001b[0m\n",
            "\u001b[?25hInstalling collected packages: einops\n",
            "Successfully installed einops-0.8.0\n"
          ]
        }
      ]
    },
    {
      "cell_type": "code",
      "execution_count": 4,
      "id": "9ad4c6ee",
      "metadata": {
        "id": "9ad4c6ee"
      },
      "outputs": [],
      "source": [
        "from torchvision import transforms, datasets\n",
        "from IPython.display import display\n",
        "from PIL import Image\n",
        "import torch\n",
        "import torch.nn as nn\n",
        "import torch.nn.functional as F\n",
        "from torch.utils.data import DataLoader\n",
        "import torchvision\n",
        "import os\n",
        "from copy import deepcopy\n",
        "from torchsummary import summary\n",
        "import torch.utils.data as data\n",
        "import numpy as np\n",
        "import matplotlib.pyplot as plt\n",
        "from tqdm.auto import tqdm\n",
        "import einops\n",
        "from torchvision.utils import save_image,make_grid"
      ]
    },
    {
      "cell_type": "code",
      "execution_count": 5,
      "id": "43d059f7",
      "metadata": {
        "colab": {
          "base_uri": "https://localhost:8080/"
        },
        "id": "43d059f7",
        "outputId": "74ff85ce-ba03-4efc-d4b5-ec30f7399e13"
      },
      "outputs": [
        {
          "output_type": "stream",
          "name": "stdout",
          "text": [
            "2.2.1+cu121\n",
            "12.1\n"
          ]
        }
      ],
      "source": [
        "print(torch.__version__)\n",
        "print(torch.version.cuda)\n",
        "device = torch.device(\"cuda:0\") if torch.cuda.is_available() else torch.device(\"cpu\")"
      ]
    },
    {
      "cell_type": "code",
      "execution_count": 24,
      "id": "74638ce3",
      "metadata": {
        "id": "74638ce3"
      },
      "outputs": [],
      "source": [
        "BATCH_SIZE = 126\n",
        "IMG_SIZE = 28\n",
        "CHANNEL = 3\n",
        "EPOCH = 300\n",
        "SIZE = 20\n",
        "lr = 0.001\n",
        "MODEL_DIR = '.\\\\model_weight\\\\'\n",
        "root_train = '.\\\\train\\\\'\n",
        "\n",
        "save_dir = os.path.join(MODEL_DIR)\n",
        "\n",
        "if not os.path.exists(save_dir):\n",
        "    os.makedirs(save_dir)"
      ]
    },
    {
      "cell_type": "markdown",
      "id": "8767b307",
      "metadata": {
        "id": "8767b307"
      },
      "source": [
        "## Building the Diffusion Model\n",
        "\n",
        "We first need to build the inputs for our model, which are more and more noisy images. Instead of doing this sequentially, we can use the closed form provided in the papers to calculate the image for any of the timesteps individually.\n",
        "\n",
        "### Key Takeaways:\n",
        "+ The noise-levels/variances can be pre-computed\n",
        "+ There are different types of variance schedules\n",
        "+ We can sample each timestep image independently (Sums of Gaussians is also Gaussian)\n",
        "+ No model is needed in this forward step\n",
        "\n",
        "$$\n",
        "q( x_t | x_0 ) = N( x_t; \\sqrt{{\\alpha}_t}x_t, (1-{\\alpha}_t)I )\n",
        "$$"
      ]
    },
    {
      "cell_type": "code",
      "execution_count": 7,
      "id": "9bae991b",
      "metadata": {
        "id": "9bae991b"
      },
      "outputs": [],
      "source": [
        "# DDPM class\n",
        "# class DDPM(nn.Module):\n",
        "#     def __init__(self, network, n_steps=200, min_beta=10 ** -4, max_beta=0.02, device=None, image_chw=(3, 28, 28)):\n",
        "#         super(DDPM, self).__init__()\n",
        "#         self.n_steps = n_steps\n",
        "#         self.device = device\n",
        "#         self.image_chw = image_chw\n",
        "#         self.network = network.to(device)\n",
        "#         self.betas = torch.linspace(min_beta, max_beta, n_steps).to(\n",
        "#             device)  # Number of steps is typically in the order of thousands\n",
        "#         self.alphas = 1 - self.betas\n",
        "#         self.alpha_bars = torch.tensor([torch.prod(self.alphas[:i + 1]) for i in range(len(self.alphas))]).to(device)\n",
        "\n",
        "#     def forward(self, x0, t, eta=None):\n",
        "#         # Make input image more noisy (we can directly skip to the desired step)\n",
        "#         n, c, h, w = x0.shape\n",
        "#         a_bar = self.alpha_bars[t]\n",
        "\n",
        "#         if eta is None:\n",
        "#             eta = torch.randn(n, c, h, w).to(self.device)\n",
        "\n",
        "#         noisy = a_bar.sqrt().reshape(n, 1, 1, 1) * x0 + (1 - a_bar).sqrt().reshape(n, 1, 1, 1) * eta\n",
        "#         return noisy\n",
        "\n",
        "#     def backward(self, x, t):\n",
        "#         # Run each image through the network for each timestep t in the vector t.\n",
        "#         # The network returns its estimation of the noise that was added.\n",
        "#         return self.network(x, t)\n",
        "\n",
        "class DDPM(nn.Module):\n",
        "    def __init__(self, network, n_steps=200, min_beta=10 ** -4, max_beta=0.02, device=None, image_chw=(3, 28, 28)):\n",
        "        super(DDPM, self).__init__()\n",
        "        self.n_steps = n_steps\n",
        "        self.device = device\n",
        "        self.image_chw = image_chw\n",
        "        self.network = network.to(device)\n",
        "        self.betas = torch.linspace(min_beta, max_beta, n_steps).to(device)\n",
        "        self.alphas = 1 - self.betas\n",
        "        self.alpha_bars = torch.tensor([torch.prod(self.alphas[:i + 1]) for i in range(len(self.alphas))]).to(device)\n",
        "\n",
        "    def forward(self, x0, t, eta=None):\n",
        "        n, c, h, w = x0.shape\n",
        "        a_bar = self.alpha_bars[t]\n",
        "\n",
        "        if eta is None:\n",
        "            eta = torch.randn(n, c, h, w).to(self.device)\n",
        "\n",
        "        noisy = a_bar.sqrt().reshape(n, 1, 1, 1) * x0 + (1 - a_bar).sqrt().reshape(n, 1, 1, 1) * eta\n",
        "        return noisy\n",
        "\n",
        "    def backward(self, x, t):\n",
        "        return self.network(x, t)"
      ]
    },
    {
      "cell_type": "markdown",
      "id": "b1d7fe78",
      "metadata": {
        "id": "b1d7fe78"
      },
      "source": [
        "## Show Images Functions"
      ]
    },
    {
      "cell_type": "code",
      "execution_count": 8,
      "metadata": {
        "id": "0VWG7m8E78Ga"
      },
      "outputs": [],
      "source": [
        "def show_tensor_image(image, save, idx=0):\n",
        "    reverse_transforms = transforms.Compose([\n",
        "        #transforms.Lambda(lambda t: (t + 1) / 2),\n",
        "        transforms.Lambda(lambda t: t.permute(1, 2, 0)),  # CHW a HWC\n",
        "    ])\n",
        "\n",
        "    # Tomar la primera imagen del lote\n",
        "    if len(image.shape) == 4:\n",
        "        image = image[idx, :, :, :]\n",
        "    if save == False:\n",
        "        adjusted_image = image.clamp(0, 1)\n",
        "        img = reverse_transforms(adjusted_image)\n",
        "        plt.imshow(img)\n",
        "        return image\n",
        "    else:\n",
        "        print(\"no entro\")\n",
        "        return image\n",
        "\n",
        "# Función para mostrar el proceso de difusión hacia adelante\n",
        "def show_forward(ddpm, loader, device):\n",
        "    # Mostrar el proceso hacia adelante\n",
        "    for batch in loader:\n",
        "        imgs = batch\n",
        "        num_images = 6\n",
        "        idx = 0\n",
        "        plt.figure(figsize=(15, 15))\n",
        "        plt.axis('off')\n",
        "        for percent in [0.0, 0.1, 0.2, 0.5, 0.7, 1]:\n",
        "            plt.subplot(1, num_images + 1, idx + 1)\n",
        "            if percent == 0.0:\n",
        "                show_tensor_image(imgs, False)\n",
        "            else:\n",
        "                show_tensor_image(ddpm(imgs.to(device),\n",
        "                    [int(percent * ddpm.n_steps) - 1 for _ in range(len(imgs))]).detach().cpu(), False)\n",
        "            idx += 1\n",
        "        break\n",
        "    plt.show()\n",
        "\n",
        "def generate_new_images(ddpm, n_samples=16, device=None, c=3, h=28, w=28,process=False):\n",
        "    \"\"\"Given a DDPM model, a number of samples to be generated and a device, returns some newly generated samples\"\"\"\n",
        "    images = []\n",
        "    with torch.no_grad():\n",
        "        if device is None:\n",
        "            device = ddpm.device\n",
        "\n",
        "        if process == True:\n",
        "            tmp = torch.zeros((n_samples, c, h, w), dtype=torch.float32).to(device)\n",
        "            images = tmp.detach().cpu()\n",
        "\n",
        "        # Starting from random noise\n",
        "        x = torch.randn(n_samples, c, h, w).to(device)\n",
        "        steps = int(ddpm.n_steps/6)\n",
        "        #print('steps:', steps)\n",
        "\n",
        "        for idx, t in enumerate(list(range(ddpm.n_steps))[::-1]):\n",
        "            # Estimating noise to be removed\n",
        "            time_tensor = (torch.ones(n_samples, 1) * t).to(device).long()\n",
        "            eta_theta = ddpm.backward(x, time_tensor)\n",
        "\n",
        "            alpha_t = ddpm.alphas[t]\n",
        "            alpha_t_bar = ddpm.alpha_bars[t]\n",
        "\n",
        "            # Partially denoising the image\n",
        "            x = (1 / alpha_t.sqrt()) * (x - (1 - alpha_t) / (1 - alpha_t_bar).sqrt() * eta_theta)\n",
        "\n",
        "            if t > 0:\n",
        "                z = torch.randn(n_samples, c, h, w).to(device)\n",
        "                beta_t = ddpm.betas[t]\n",
        "                sigma_t = beta_t.sqrt()\n",
        "\n",
        "                # Adding some more noise like in Langevin Dynamics fashion\n",
        "                x = x + sigma_t * z\n",
        "            if process and (idx ==0 or (idx+1) % steps==0) :\n",
        "                images=torch.cat((images,x.detach().cpu()),0)\n",
        "                #images.append(x)\n",
        "        if process:\n",
        "            return images\n",
        "    #print(x.shape)\n",
        "    return x"
      ],
      "id": "0VWG7m8E78Ga"
    },
    {
      "cell_type": "markdown",
      "id": "060fb36b",
      "metadata": {
        "id": "060fb36b"
      },
      "source": [
        "### Load Data set and observation"
      ]
    },
    {
      "cell_type": "code",
      "source": [
        "from google.colab import drive\n",
        "drive.mount('/content/drive')"
      ],
      "metadata": {
        "colab": {
          "base_uri": "https://localhost:8080/"
        },
        "id": "dLIyHngcCCf6",
        "outputId": "3650f221-e7a3-4bd6-92e1-92b51ecc4c2b"
      },
      "id": "dLIyHngcCCf6",
      "execution_count": 9,
      "outputs": [
        {
          "output_type": "stream",
          "name": "stdout",
          "text": [
            "Mounted at /content/drive\n"
          ]
        }
      ]
    },
    {
      "cell_type": "code",
      "source": [
        "import os\n",
        "import zipfile\n",
        "\n",
        "# Ruta al archivo zip que deseas descomprimir\n",
        "zip_file_path = '/content/drive/MyDrive/SIS421/LAB_8/Turtle_28.zip'\n",
        "\n",
        "# Directorio de destino donde se extraerán los archivos\n",
        "extract_dir = '/content/zip_extraido'\n",
        "\n",
        "# Crear el directorio de destino si no existe\n",
        "os.makedirs(extract_dir, exist_ok=True)\n",
        "\n",
        "# Descomprimir el archivo zip\n",
        "with zipfile.ZipFile(zip_file_path, 'r') as zip_ref:\n",
        "    zip_ref.extractall(extract_dir)\n",
        "\n",
        "print(\"¡Descompresión completada!\")"
      ],
      "metadata": {
        "colab": {
          "base_uri": "https://localhost:8080/"
        },
        "id": "yZ-TXIhWrdwK",
        "outputId": "4ffe7267-e082-411f-8954-db90c56f1b98"
      },
      "id": "yZ-TXIhWrdwK",
      "execution_count": 10,
      "outputs": [
        {
          "output_type": "stream",
          "name": "stdout",
          "text": [
            "¡Descompresión completada!\n"
          ]
        }
      ]
    },
    {
      "cell_type": "code",
      "execution_count": 11,
      "id": "a20ee0e3",
      "metadata": {
        "colab": {
          "base_uri": "https://localhost:8080/"
        },
        "id": "a20ee0e3",
        "outputId": "d1612326-fd28-42d4-bce1-594434fa1840"
      },
      "outputs": [
        {
          "output_type": "stream",
          "name": "stdout",
          "text": [
            "1934\n"
          ]
        }
      ],
      "source": [
        "import glob\n",
        "# Definir la transformación\n",
        "transform = transforms.Compose([\n",
        "    #transforms.Grayscale(num_output_channels=),\n",
        "    transforms.ToTensor(),\n",
        "    transforms.Lambda(lambda x: (x - 0.5) * 2)\n",
        "])\n",
        "\n",
        "# Cargar los datos de entrenamiento\n",
        "train_data = []\n",
        "for im_path in glob.glob(\"/content/zip_extraido/*.png\"):\n",
        "    image = Image.open(im_path)\n",
        "    image = transform(image)\n",
        "    train_data.append(image)\n",
        "print(len(train_data))"
      ]
    },
    {
      "cell_type": "code",
      "source": [
        "train_data[0]"
      ],
      "metadata": {
        "colab": {
          "base_uri": "https://localhost:8080/"
        },
        "id": "Tyagd2XAAIA2",
        "outputId": "96636f39-d619-492c-a38e-e44602100ebc"
      },
      "id": "Tyagd2XAAIA2",
      "execution_count": 12,
      "outputs": [
        {
          "output_type": "execute_result",
          "data": {
            "text/plain": [
              "tensor([[[-0.7882, -0.7725, -0.7569,  ..., -0.8196, -0.8118, -0.8275],\n",
              "         [-0.7961, -0.7882, -0.7725,  ..., -0.8196, -0.8275, -0.8353],\n",
              "         [-0.7804, -0.7882, -0.7725,  ..., -0.8275, -0.8353, -0.8588],\n",
              "         ...,\n",
              "         [-0.7020, -0.6863, -0.7098,  ..., -0.6784, -0.6941, -0.7333],\n",
              "         [-0.6941, -0.6941, -0.7020,  ..., -0.7098, -0.7333, -0.7490],\n",
              "         [-0.6549, -0.6471, -0.6471,  ..., -0.7098, -0.7333, -0.7412]],\n",
              "\n",
              "        [[ 0.2314,  0.2471,  0.2549,  ...,  0.1294,  0.1059,  0.0824],\n",
              "         [ 0.2392,  0.2549,  0.2706,  ...,  0.1373,  0.1216,  0.0902],\n",
              "         [ 0.2471,  0.2627,  0.2784,  ...,  0.1373,  0.1216,  0.0980],\n",
              "         ...,\n",
              "         [ 0.1922,  0.2235,  0.1294,  ..., -0.1608, -0.1451, -0.2314],\n",
              "         [ 0.1843,  0.1529,  0.1294,  ..., -0.2000, -0.2078, -0.2549],\n",
              "         [ 0.2157,  0.2392,  0.2706,  ..., -0.2235, -0.2549, -0.2627]],\n",
              "\n",
              "        [[ 0.8824,  0.8980,  0.9137,  ...,  0.8039,  0.7882,  0.7647],\n",
              "         [ 0.8902,  0.9059,  0.9216,  ...,  0.8118,  0.7961,  0.7725],\n",
              "         [ 0.8980,  0.9059,  0.9216,  ...,  0.8118,  0.7961,  0.7725],\n",
              "         ...,\n",
              "         [ 0.5294,  0.5451,  0.4510,  ...,  0.0588,  0.0902,  0.0353],\n",
              "         [ 0.5059,  0.4667,  0.4510,  ...,  0.0196,  0.0353, -0.0118],\n",
              "         [ 0.4902,  0.4980,  0.5608,  ..., -0.0118, -0.0431, -0.0431]]])"
            ]
          },
          "metadata": {},
          "execution_count": 12
        }
      ]
    },
    {
      "cell_type": "code",
      "execution_count": 25,
      "id": "9cfac690",
      "metadata": {
        "id": "9cfac690"
      },
      "outputs": [],
      "source": [
        "data_loader = DataLoader( train_data, batch_size=BATCH_SIZE, shuffle=True,drop_last=True )"
      ]
    },
    {
      "cell_type": "code",
      "execution_count": 26,
      "id": "202d71fe",
      "metadata": {
        "colab": {
          "base_uri": "https://localhost:8080/"
        },
        "id": "202d71fe",
        "outputId": "b268951e-2316-40b0-ac61-8feb328cf656"
      },
      "outputs": [
        {
          "output_type": "stream",
          "name": "stdout",
          "text": [
            "torch.Size([3, 28, 28])\n"
          ]
        }
      ],
      "source": [
        "print(train_data[0].shape)# CHW"
      ]
    },
    {
      "cell_type": "markdown",
      "id": "1bc9e6a5",
      "metadata": {
        "id": "1bc9e6a5"
      },
      "source": [
        "## Training Model"
      ]
    },
    {
      "cell_type": "code",
      "execution_count": 15,
      "id": "0c5a095f",
      "metadata": {
        "id": "0c5a095f"
      },
      "outputs": [],
      "source": [
        "def sinusoidal_embedding(n, d):\n",
        "    # Returns the standard positional embedding\n",
        "    embedding = torch.tensor([[i / 10_000 ** (2 * j / d) for j in range(d)] for i in range(n)])\n",
        "    sin_mask = torch.arange(0, n, 2)\n",
        "\n",
        "    embedding[sin_mask] = torch.sin(embedding[sin_mask])\n",
        "    embedding[1 - sin_mask] = torch.cos(embedding[sin_mask])\n",
        "\n",
        "    return embedding"
      ]
    },
    {
      "cell_type": "code",
      "execution_count": 16,
      "id": "09873208",
      "metadata": {
        "id": "09873208"
      },
      "outputs": [],
      "source": [
        "class Block(nn.Module):\n",
        "    def __init__(self, shape, in_c, out_c, kernel_size=3, stride=1, padding=1, activation=None, normalize=True):\n",
        "        super(Block, self).__init__()\n",
        "        self.ln = nn.LayerNorm(shape)\n",
        "        self.conv1 = nn.Conv2d(in_c, out_c, kernel_size, stride, padding)\n",
        "        self.conv2 = nn.Conv2d(out_c, out_c, kernel_size, stride, padding)\n",
        "        self.activation = nn.ReLU() if activation is None else activation\n",
        "        self.normalize = normalize\n",
        "\n",
        "    def forward(self, x):\n",
        "        if self.normalize:\n",
        "            out = self.ln(x)\n",
        "        else:\n",
        "            out = x\n",
        "        out = self.conv1(out)\n",
        "        out = self.activation(out)\n",
        "        out = self.conv2(out)\n",
        "        out = self.activation(out)\n",
        "        return out"
      ]
    },
    {
      "cell_type": "code",
      "execution_count": 27,
      "metadata": {
        "colab": {
          "base_uri": "https://localhost:8080/",
          "height": 426
        },
        "outputId": "cfd6e32a-bb7a-4913-c717-1f2d80be6372",
        "id": "1IN_SQWd8y1J"
      },
      "outputs": [
        {
          "output_type": "error",
          "ename": "RuntimeError",
          "evalue": "CUDA error: device-side assert triggered\nCUDA kernel errors might be asynchronously reported at some other API call, so the stacktrace below might be incorrect.\nFor debugging consider passing CUDA_LAUNCH_BLOCKING=1.\nCompile with `TORCH_USE_CUDA_DSA` to enable device-side assertions.\n",
          "traceback": [
            "\u001b[0;31m---------------------------------------------------------------------------\u001b[0m",
            "\u001b[0;31mRuntimeError\u001b[0m                              Traceback (most recent call last)",
            "\u001b[0;32m<ipython-input-27-edf97c8011fc>\u001b[0m in \u001b[0;36m<cell line: 92>\u001b[0;34m()\u001b[0m\n\u001b[1;32m     90\u001b[0m \u001b[0;31m# Defining model\u001b[0m\u001b[0;34m\u001b[0m\u001b[0;34m\u001b[0m\u001b[0m\n\u001b[1;32m     91\u001b[0m \u001b[0mn_steps\u001b[0m\u001b[0;34m,\u001b[0m \u001b[0mmin_beta\u001b[0m\u001b[0;34m,\u001b[0m \u001b[0mmax_beta\u001b[0m \u001b[0;34m=\u001b[0m \u001b[0;36m1000\u001b[0m\u001b[0;34m,\u001b[0m \u001b[0;36m10\u001b[0m \u001b[0;34m**\u001b[0m \u001b[0;34m-\u001b[0m\u001b[0;36m4\u001b[0m\u001b[0;34m,\u001b[0m \u001b[0;36m0.02\u001b[0m  \u001b[0;31m# Originally used by the authors\u001b[0m\u001b[0;34m\u001b[0m\u001b[0;34m\u001b[0m\u001b[0m\n\u001b[0;32m---> 92\u001b[0;31m \u001b[0mmodel\u001b[0m \u001b[0;34m=\u001b[0m \u001b[0mDDPM\u001b[0m\u001b[0;34m(\u001b[0m\u001b[0mUNet\u001b[0m\u001b[0;34m(\u001b[0m\u001b[0mn_steps\u001b[0m\u001b[0;34m)\u001b[0m\u001b[0;34m,\u001b[0m \u001b[0mn_steps\u001b[0m\u001b[0;34m=\u001b[0m\u001b[0mn_steps\u001b[0m\u001b[0;34m,\u001b[0m \u001b[0mmin_beta\u001b[0m\u001b[0;34m=\u001b[0m\u001b[0mmin_beta\u001b[0m\u001b[0;34m,\u001b[0m \u001b[0mmax_beta\u001b[0m\u001b[0;34m=\u001b[0m\u001b[0mmax_beta\u001b[0m\u001b[0;34m,\u001b[0m \u001b[0mdevice\u001b[0m\u001b[0;34m=\u001b[0m\u001b[0mdevice\u001b[0m\u001b[0;34m)\u001b[0m\u001b[0;34m.\u001b[0m\u001b[0mto\u001b[0m\u001b[0;34m(\u001b[0m\u001b[0mdevice\u001b[0m\u001b[0;34m)\u001b[0m\u001b[0;34m\u001b[0m\u001b[0;34m\u001b[0m\u001b[0m\n\u001b[0m\u001b[1;32m     93\u001b[0m \u001b[0mprint\u001b[0m\u001b[0;34m(\u001b[0m\u001b[0;34m\"Num params: \"\u001b[0m\u001b[0;34m,\u001b[0m \u001b[0msum\u001b[0m\u001b[0;34m(\u001b[0m\u001b[0mp\u001b[0m\u001b[0;34m.\u001b[0m\u001b[0mnumel\u001b[0m\u001b[0;34m(\u001b[0m\u001b[0;34m)\u001b[0m \u001b[0;32mfor\u001b[0m \u001b[0mp\u001b[0m \u001b[0;32min\u001b[0m \u001b[0mmodel\u001b[0m\u001b[0;34m.\u001b[0m\u001b[0mparameters\u001b[0m\u001b[0;34m(\u001b[0m\u001b[0;34m)\u001b[0m\u001b[0;34m)\u001b[0m\u001b[0;34m)\u001b[0m\u001b[0;34m\u001b[0m\u001b[0;34m\u001b[0m\u001b[0m\n\u001b[1;32m     94\u001b[0m \u001b[0mmodel\u001b[0m\u001b[0;34m\u001b[0m\u001b[0;34m\u001b[0m\u001b[0m\n",
            "\u001b[0;32m<ipython-input-7-694d0fea926d>\u001b[0m in \u001b[0;36m__init__\u001b[0;34m(self, network, n_steps, min_beta, max_beta, device, image_chw)\u001b[0m\n\u001b[1;32m     34\u001b[0m         \u001b[0mself\u001b[0m\u001b[0;34m.\u001b[0m\u001b[0mdevice\u001b[0m \u001b[0;34m=\u001b[0m \u001b[0mdevice\u001b[0m\u001b[0;34m\u001b[0m\u001b[0;34m\u001b[0m\u001b[0m\n\u001b[1;32m     35\u001b[0m         \u001b[0mself\u001b[0m\u001b[0;34m.\u001b[0m\u001b[0mimage_chw\u001b[0m \u001b[0;34m=\u001b[0m \u001b[0mimage_chw\u001b[0m\u001b[0;34m\u001b[0m\u001b[0;34m\u001b[0m\u001b[0m\n\u001b[0;32m---> 36\u001b[0;31m         \u001b[0mself\u001b[0m\u001b[0;34m.\u001b[0m\u001b[0mnetwork\u001b[0m \u001b[0;34m=\u001b[0m \u001b[0mnetwork\u001b[0m\u001b[0;34m.\u001b[0m\u001b[0mto\u001b[0m\u001b[0;34m(\u001b[0m\u001b[0mdevice\u001b[0m\u001b[0;34m)\u001b[0m\u001b[0;34m\u001b[0m\u001b[0;34m\u001b[0m\u001b[0m\n\u001b[0m\u001b[1;32m     37\u001b[0m         \u001b[0mself\u001b[0m\u001b[0;34m.\u001b[0m\u001b[0mbetas\u001b[0m \u001b[0;34m=\u001b[0m \u001b[0mtorch\u001b[0m\u001b[0;34m.\u001b[0m\u001b[0mlinspace\u001b[0m\u001b[0;34m(\u001b[0m\u001b[0mmin_beta\u001b[0m\u001b[0;34m,\u001b[0m \u001b[0mmax_beta\u001b[0m\u001b[0;34m,\u001b[0m \u001b[0mn_steps\u001b[0m\u001b[0;34m)\u001b[0m\u001b[0;34m.\u001b[0m\u001b[0mto\u001b[0m\u001b[0;34m(\u001b[0m\u001b[0mdevice\u001b[0m\u001b[0;34m)\u001b[0m\u001b[0;34m\u001b[0m\u001b[0;34m\u001b[0m\u001b[0m\n\u001b[1;32m     38\u001b[0m         \u001b[0mself\u001b[0m\u001b[0;34m.\u001b[0m\u001b[0malphas\u001b[0m \u001b[0;34m=\u001b[0m \u001b[0;36m1\u001b[0m \u001b[0;34m-\u001b[0m \u001b[0mself\u001b[0m\u001b[0;34m.\u001b[0m\u001b[0mbetas\u001b[0m\u001b[0;34m\u001b[0m\u001b[0;34m\u001b[0m\u001b[0m\n",
            "\u001b[0;32m/usr/local/lib/python3.10/dist-packages/torch/nn/modules/module.py\u001b[0m in \u001b[0;36mto\u001b[0;34m(self, *args, **kwargs)\u001b[0m\n\u001b[1;32m   1150\u001b[0m             \u001b[0;32mreturn\u001b[0m \u001b[0mt\u001b[0m\u001b[0;34m.\u001b[0m\u001b[0mto\u001b[0m\u001b[0;34m(\u001b[0m\u001b[0mdevice\u001b[0m\u001b[0;34m,\u001b[0m \u001b[0mdtype\u001b[0m \u001b[0;32mif\u001b[0m \u001b[0mt\u001b[0m\u001b[0;34m.\u001b[0m\u001b[0mis_floating_point\u001b[0m\u001b[0;34m(\u001b[0m\u001b[0;34m)\u001b[0m \u001b[0;32mor\u001b[0m \u001b[0mt\u001b[0m\u001b[0;34m.\u001b[0m\u001b[0mis_complex\u001b[0m\u001b[0;34m(\u001b[0m\u001b[0;34m)\u001b[0m \u001b[0;32melse\u001b[0m \u001b[0;32mNone\u001b[0m\u001b[0;34m,\u001b[0m \u001b[0mnon_blocking\u001b[0m\u001b[0;34m)\u001b[0m\u001b[0;34m\u001b[0m\u001b[0;34m\u001b[0m\u001b[0m\n\u001b[1;32m   1151\u001b[0m \u001b[0;34m\u001b[0m\u001b[0m\n\u001b[0;32m-> 1152\u001b[0;31m         \u001b[0;32mreturn\u001b[0m \u001b[0mself\u001b[0m\u001b[0;34m.\u001b[0m\u001b[0m_apply\u001b[0m\u001b[0;34m(\u001b[0m\u001b[0mconvert\u001b[0m\u001b[0;34m)\u001b[0m\u001b[0;34m\u001b[0m\u001b[0;34m\u001b[0m\u001b[0m\n\u001b[0m\u001b[1;32m   1153\u001b[0m \u001b[0;34m\u001b[0m\u001b[0m\n\u001b[1;32m   1154\u001b[0m     def register_full_backward_pre_hook(\n",
            "\u001b[0;32m/usr/local/lib/python3.10/dist-packages/torch/nn/modules/module.py\u001b[0m in \u001b[0;36m_apply\u001b[0;34m(self, fn, recurse)\u001b[0m\n\u001b[1;32m    800\u001b[0m         \u001b[0;32mif\u001b[0m \u001b[0mrecurse\u001b[0m\u001b[0;34m:\u001b[0m\u001b[0;34m\u001b[0m\u001b[0;34m\u001b[0m\u001b[0m\n\u001b[1;32m    801\u001b[0m             \u001b[0;32mfor\u001b[0m \u001b[0mmodule\u001b[0m \u001b[0;32min\u001b[0m \u001b[0mself\u001b[0m\u001b[0;34m.\u001b[0m\u001b[0mchildren\u001b[0m\u001b[0;34m(\u001b[0m\u001b[0;34m)\u001b[0m\u001b[0;34m:\u001b[0m\u001b[0;34m\u001b[0m\u001b[0;34m\u001b[0m\u001b[0m\n\u001b[0;32m--> 802\u001b[0;31m                 \u001b[0mmodule\u001b[0m\u001b[0;34m.\u001b[0m\u001b[0m_apply\u001b[0m\u001b[0;34m(\u001b[0m\u001b[0mfn\u001b[0m\u001b[0;34m)\u001b[0m\u001b[0;34m\u001b[0m\u001b[0;34m\u001b[0m\u001b[0m\n\u001b[0m\u001b[1;32m    803\u001b[0m \u001b[0;34m\u001b[0m\u001b[0m\n\u001b[1;32m    804\u001b[0m         \u001b[0;32mdef\u001b[0m \u001b[0mcompute_should_use_set_data\u001b[0m\u001b[0;34m(\u001b[0m\u001b[0mtensor\u001b[0m\u001b[0;34m,\u001b[0m \u001b[0mtensor_applied\u001b[0m\u001b[0;34m)\u001b[0m\u001b[0;34m:\u001b[0m\u001b[0;34m\u001b[0m\u001b[0;34m\u001b[0m\u001b[0m\n",
            "\u001b[0;32m/usr/local/lib/python3.10/dist-packages/torch/nn/modules/module.py\u001b[0m in \u001b[0;36m_apply\u001b[0;34m(self, fn, recurse)\u001b[0m\n\u001b[1;32m    823\u001b[0m             \u001b[0;31m# `with torch.no_grad():`\u001b[0m\u001b[0;34m\u001b[0m\u001b[0;34m\u001b[0m\u001b[0m\n\u001b[1;32m    824\u001b[0m             \u001b[0;32mwith\u001b[0m \u001b[0mtorch\u001b[0m\u001b[0;34m.\u001b[0m\u001b[0mno_grad\u001b[0m\u001b[0;34m(\u001b[0m\u001b[0;34m)\u001b[0m\u001b[0;34m:\u001b[0m\u001b[0;34m\u001b[0m\u001b[0;34m\u001b[0m\u001b[0m\n\u001b[0;32m--> 825\u001b[0;31m                 \u001b[0mparam_applied\u001b[0m \u001b[0;34m=\u001b[0m \u001b[0mfn\u001b[0m\u001b[0;34m(\u001b[0m\u001b[0mparam\u001b[0m\u001b[0;34m)\u001b[0m\u001b[0;34m\u001b[0m\u001b[0;34m\u001b[0m\u001b[0m\n\u001b[0m\u001b[1;32m    826\u001b[0m             \u001b[0mshould_use_set_data\u001b[0m \u001b[0;34m=\u001b[0m \u001b[0mcompute_should_use_set_data\u001b[0m\u001b[0;34m(\u001b[0m\u001b[0mparam\u001b[0m\u001b[0;34m,\u001b[0m \u001b[0mparam_applied\u001b[0m\u001b[0;34m)\u001b[0m\u001b[0;34m\u001b[0m\u001b[0;34m\u001b[0m\u001b[0m\n\u001b[1;32m    827\u001b[0m             \u001b[0;32mif\u001b[0m \u001b[0mshould_use_set_data\u001b[0m\u001b[0;34m:\u001b[0m\u001b[0;34m\u001b[0m\u001b[0;34m\u001b[0m\u001b[0m\n",
            "\u001b[0;32m/usr/local/lib/python3.10/dist-packages/torch/nn/modules/module.py\u001b[0m in \u001b[0;36mconvert\u001b[0;34m(t)\u001b[0m\n\u001b[1;32m   1148\u001b[0m                 return t.to(device, dtype if t.is_floating_point() or t.is_complex() else None,\n\u001b[1;32m   1149\u001b[0m                             non_blocking, memory_format=convert_to_format)\n\u001b[0;32m-> 1150\u001b[0;31m             \u001b[0;32mreturn\u001b[0m \u001b[0mt\u001b[0m\u001b[0;34m.\u001b[0m\u001b[0mto\u001b[0m\u001b[0;34m(\u001b[0m\u001b[0mdevice\u001b[0m\u001b[0;34m,\u001b[0m \u001b[0mdtype\u001b[0m \u001b[0;32mif\u001b[0m \u001b[0mt\u001b[0m\u001b[0;34m.\u001b[0m\u001b[0mis_floating_point\u001b[0m\u001b[0;34m(\u001b[0m\u001b[0;34m)\u001b[0m \u001b[0;32mor\u001b[0m \u001b[0mt\u001b[0m\u001b[0;34m.\u001b[0m\u001b[0mis_complex\u001b[0m\u001b[0;34m(\u001b[0m\u001b[0;34m)\u001b[0m \u001b[0;32melse\u001b[0m \u001b[0;32mNone\u001b[0m\u001b[0;34m,\u001b[0m \u001b[0mnon_blocking\u001b[0m\u001b[0;34m)\u001b[0m\u001b[0;34m\u001b[0m\u001b[0;34m\u001b[0m\u001b[0m\n\u001b[0m\u001b[1;32m   1151\u001b[0m \u001b[0;34m\u001b[0m\u001b[0m\n\u001b[1;32m   1152\u001b[0m         \u001b[0;32mreturn\u001b[0m \u001b[0mself\u001b[0m\u001b[0;34m.\u001b[0m\u001b[0m_apply\u001b[0m\u001b[0;34m(\u001b[0m\u001b[0mconvert\u001b[0m\u001b[0;34m)\u001b[0m\u001b[0;34m\u001b[0m\u001b[0;34m\u001b[0m\u001b[0m\n",
            "\u001b[0;31mRuntimeError\u001b[0m: CUDA error: device-side assert triggered\nCUDA kernel errors might be asynchronously reported at some other API call, so the stacktrace below might be incorrect.\nFor debugging consider passing CUDA_LAUNCH_BLOCKING=1.\nCompile with `TORCH_USE_CUDA_DSA` to enable device-side assertions.\n"
          ]
        }
      ],
      "source": [
        "class UNet(nn.Module):\n",
        "    def __init__(self, n_steps=1000, time_emb_dim=100, image_channels=3):\n",
        "        super(UNet, self).__init__()\n",
        "        down_channels = (image_channels,16, 32, 64)\n",
        "        up_channels = (128 ,64, 32, 16)\n",
        "        size = (28, 14, 7)\n",
        "        # Sinusoidal embedding\n",
        "        self.time_embed = nn.Embedding(n_steps, time_emb_dim)\n",
        "        self.time_embed.weight.data = sinusoidal_embedding(n_steps, time_emb_dim)\n",
        "        self.time_embed.requires_grad_(False)\n",
        "\n",
        "        # First half\n",
        "        self.te1 = self._make_te(time_emb_dim, down_channels[0])\n",
        "        self.b1 = self._make_conv(down_channels[0], down_channels[1] ,down_channels[1], size[0] )\n",
        "        self.down1 = nn.Conv2d(down_channels[1], down_channels[1], 4, 2, 1)\n",
        "\n",
        "        self.te2 = self._make_te(time_emb_dim, down_channels[1])\n",
        "        self.b2 = self._make_conv(down_channels[1], down_channels[2] ,down_channels[2], size[1] )\n",
        "        self.down2 = nn.Conv2d(down_channels[2], down_channels[2], 4, 2, 1)\n",
        "\n",
        "        self.te3 = self._make_te(time_emb_dim, down_channels[2])\n",
        "        self.b3 = self._make_conv(down_channels[2], down_channels[3] ,down_channels[3], size[2] )\n",
        "        self.down3 = nn.Sequential(\n",
        "            nn.Conv2d(down_channels[3], down_channels[3], 2, 1),\n",
        "            nn.ReLU(),\n",
        "            nn.Conv2d(down_channels[3], down_channels[3], 4, 2, 1)\n",
        "        )\n",
        "\n",
        "        # Bottleneck\n",
        "        self.te_mid = self._make_te(time_emb_dim, down_channels[3])\n",
        "        self.b_mid = nn.Sequential(\n",
        "            Block((down_channels[3], 3, 3), down_channels[3], down_channels[2]),\n",
        "            Block((down_channels[2], 3, 3), down_channels[2], down_channels[2]),\n",
        "            Block((down_channels[2], 3, 3), down_channels[2], down_channels[3])\n",
        "        )\n",
        "\n",
        "        # Second half\n",
        "        self.up1 = nn.Sequential(\n",
        "            nn.ConvTranspose2d(down_channels[3], down_channels[3], 4, 2, 1),\n",
        "            nn.ReLU(),\n",
        "            nn.ConvTranspose2d(down_channels[3], down_channels[3], 2, 1)\n",
        "        )\n",
        "\n",
        "        self.te4 = self._make_te(time_emb_dim, up_channels[0])\n",
        "        self.b4 = self._make_conv(up_channels[0], up_channels[1] ,up_channels[2], size[2] )\n",
        "\n",
        "        self.up2 = nn.ConvTranspose2d(up_channels[2], up_channels[2], 4, 2, 1)\n",
        "        self.te5 = self._make_te(time_emb_dim, up_channels[1])\n",
        "        self.b5 = self._make_conv(up_channels[1], up_channels[2] ,up_channels[3], size[1] )\n",
        "\n",
        "        self.up3 = nn.ConvTranspose2d(up_channels[3], up_channels[3], 4, 2, 1)\n",
        "        self.te_out = self._make_te(time_emb_dim, up_channels[2])\n",
        "        self.b_out = self._make_conv(up_channels[2], up_channels[3] ,up_channels[3], size[0] )\n",
        "        self.conv_out = nn.Conv2d(up_channels[3], 3, 3, 1, 1)\n",
        "\n",
        "    def forward(self, x, t):\n",
        "        t = self.time_embed(t)\n",
        "        n = len(x)\n",
        "        out1 = self.b1(x + self.te1(t).reshape(n, -1, 1, 1))  # (N, 16, 28, 28)\n",
        "        out2 = self.b2(self.down1(out1) + self.te2(t).reshape(n, -1, 1, 1))  # (N, 32, 14, 14)\n",
        "        out3 = self.b3(self.down2(out2) + self.te3(t).reshape(n, -1, 1, 1))  # (N, 64, 7, 7)\n",
        "\n",
        "        out_mid = self.b_mid(self.down3(out3) + self.te_mid(t).reshape(n, -1, 1, 1))  # (N, 64, 3, 3)\n",
        "\n",
        "        out4 = torch.cat((out3, self.up1(out_mid)), dim=1)  # (N, 128, 7, 7)\n",
        "        out4 = self.b4(out4 + self.te4(t).reshape(n, -1, 1, 1))  # (N, 32, 7, 7)\n",
        "\n",
        "        out5 = torch.cat((out2, self.up2(out4)), dim=1)  # (N, 64, 14, 14)\n",
        "        out5 = self.b5(out5 + self.te5(t).reshape(n, -1, 1, 1))  # (N, 16, 14, 14)\n",
        "\n",
        "        out = torch.cat((out1, self.up3(out5)), dim=1)  # (N, 32, 28, 28)\n",
        "        out = self.b_out(out + self.te_out(t).reshape(n, -1, 1, 1))  # (N, 1, 28, 28)\n",
        "        out = self.conv_out(out)\n",
        "        #print('Network:',out.shape)\n",
        "        return out\n",
        "\n",
        "    def _make_te(self, dim_in, dim_out):\n",
        "        return nn.Sequential(\n",
        "            nn.Linear(dim_in, dim_out),\n",
        "            nn.ReLU(),\n",
        "            nn.Linear(dim_out, dim_out)\n",
        "        )\n",
        "\n",
        "    def _make_conv(self, in_c, mid_c, out_c, size, normalize=True ):\n",
        "        return nn.Sequential(\n",
        "            Block((in_c, size, size), in_c, mid_c),\n",
        "            Block((mid_c, size, size), mid_c, out_c),\n",
        "            Block((out_c, size, size), out_c, out_c,normalize=normalize)\n",
        "        )\n",
        "# Defining model\n",
        "n_steps, min_beta, max_beta = 1000, 10 ** -4, 0.02  # Originally used by the authors\n",
        "model = DDPM(UNet(n_steps), n_steps=n_steps, min_beta=min_beta, max_beta=max_beta, device=device).to(device)\n",
        "print(\"Num params: \", sum(p.numel() for p in model.parameters()))\n",
        "model"
      ],
      "id": "1IN_SQWd8y1J"
    },
    {
      "cell_type": "markdown",
      "id": "28d53e23",
      "metadata": {
        "id": "28d53e23"
      },
      "source": [
        "## Setting noise to training image"
      ]
    },
    {
      "cell_type": "code",
      "execution_count": 18,
      "id": "21202e64",
      "metadata": {
        "colab": {
          "base_uri": "https://localhost:8080/",
          "height": 262
        },
        "id": "21202e64",
        "outputId": "5fe0d8e6-1cdf-4a9b-bf3e-1b91967ce544"
      },
      "outputs": [
        {
          "output_type": "stream",
          "name": "stderr",
          "text": [
            "<ipython-input-8-a0c13ab4ada7>:29: MatplotlibDeprecationWarning: Auto-removal of overlapping axes is deprecated since 3.6 and will be removed two minor releases later; explicitly call ax.remove() as needed.\n",
            "  plt.subplot(1, num_images + 1, idx + 1)\n"
          ]
        },
        {
          "output_type": "display_data",
          "data": {
            "text/plain": [
              "<Figure size 1500x1500 with 6 Axes>"
            ],
            "image/png": "[encoded data removed]"
          },
          "metadata": {}
        }
      ],
      "source": [
        "# Optionally, show the diffusion (forward) process\n",
        "#for step, batch in enumerate(data_loader):\n",
        "show_forward(model, data_loader, device)"
      ]
    },
    {
      "cell_type": "code",
      "execution_count": 19,
      "id": "801ff0a8",
      "metadata": {
        "colab": {
          "base_uri": "https://localhost:8080/",
          "height": 430
        },
        "id": "801ff0a8",
        "outputId": "3755b6fc-4411-4248-fe86-6001499ca4b3"
      },
      "outputs": [
        {
          "output_type": "display_data",
          "data": {
            "text/plain": [
              "<Figure size 640x480 with 1 Axes>"
            ],
            "image/png": "[encoded data removed]"
          },
          "metadata": {}
        }
      ],
      "source": [
        "generated = generate_new_images(model,n_samples=1)\n",
        "img = show_tensor_image(generated.detach().cpu(),False)"
      ]
    },
    {
      "cell_type": "markdown",
      "id": "c521db87",
      "metadata": {
        "id": "c521db87"
      },
      "source": [
        "### Show the denoising (backward) process"
      ]
    },
    {
      "cell_type": "code",
      "execution_count": 22,
      "id": "b3df62b2",
      "metadata": {
        "colab": {
          "base_uri": "https://localhost:8080/",
          "height": 274
        },
        "id": "b3df62b2",
        "outputId": "52bc27cd-e4f2-4b7e-fdb0-0fc897892d6b"
      },
      "outputs": [
        {
          "output_type": "error",
          "ename": "RuntimeError",
          "evalue": "CUDA error: device-side assert triggered\nCUDA kernel errors might be asynchronously reported at some other API call, so the stacktrace below might be incorrect.\nFor debugging consider passing CUDA_LAUNCH_BLOCKING=1.\nCompile with `TORCH_USE_CUDA_DSA` to enable device-side assertions.\n",
          "traceback": [
            "\u001b[0;31m---------------------------------------------------------------------------\u001b[0m",
            "\u001b[0;31mRuntimeError\u001b[0m                              Traceback (most recent call last)",
            "\u001b[0;32m<ipython-input-22-1cbbf9749376>\u001b[0m in \u001b[0;36m<cell line: 11>\u001b[0;34m()\u001b[0m\n\u001b[1;32m     18\u001b[0m       \u001b[0;31m#t = torch.randint(0, T, (BATCH_SIZE,), device=device).long()\u001b[0m\u001b[0;34m\u001b[0m\u001b[0;34m\u001b[0m\u001b[0m\n\u001b[1;32m     19\u001b[0m       \u001b[0;31m#print('batch:', batch.shape)\u001b[0m\u001b[0;34m\u001b[0m\u001b[0;34m\u001b[0m\u001b[0m\n\u001b[0;32m---> 20\u001b[0;31m       \u001b[0mx\u001b[0m \u001b[0;34m=\u001b[0m \u001b[0mbatch\u001b[0m\u001b[0;34m.\u001b[0m\u001b[0mto\u001b[0m\u001b[0;34m(\u001b[0m\u001b[0mdevice\u001b[0m\u001b[0;34m)\u001b[0m\u001b[0;34m\u001b[0m\u001b[0;34m\u001b[0m\u001b[0m\n\u001b[0m\u001b[1;32m     21\u001b[0m       \u001b[0mn\u001b[0m \u001b[0;34m=\u001b[0m \u001b[0mlen\u001b[0m\u001b[0;34m(\u001b[0m\u001b[0mx\u001b[0m\u001b[0;34m)\u001b[0m\u001b[0;34m\u001b[0m\u001b[0;34m\u001b[0m\u001b[0m\n\u001b[1;32m     22\u001b[0m       \u001b[0;31m# Picking some noise for each of the images in the batch, a timestep and the respective alpha_bars\u001b[0m\u001b[0;34m\u001b[0m\u001b[0;34m\u001b[0m\u001b[0m\n",
            "\u001b[0;31mRuntimeError\u001b[0m: CUDA error: device-side assert triggered\nCUDA kernel errors might be asynchronously reported at some other API call, so the stacktrace below might be incorrect.\nFor debugging consider passing CUDA_LAUNCH_BLOCKING=1.\nCompile with `TORCH_USE_CUDA_DSA` to enable device-side assertions.\n"
          ]
        }
      ],
      "source": [
        "from torch.optim import Adam\n",
        "train_hist = {}\n",
        "train_hist['loss'] = []\n",
        "model.to(device)\n",
        "optimizer = Adam(model.parameters(), lr=lr)\n",
        "mse = nn.BCELoss()\n",
        "best_loss = float(\"inf\")\n",
        "n_steps = model.n_steps\n",
        "epochs = EPOCH # Try more!\n",
        "ws_test = [0.0, 0.5, 2.0] # strength of generative guidance\n",
        "for epoch in range(epochs):\n",
        "    data_loader = DataLoader( train_data, batch_size=BATCH_SIZE, shuffle=True,drop_last=True )\n",
        "    optimizer.param_groups[0]['lr'] = lr*(1-epoch/epochs)\n",
        "    epoch_loss = 0.0\n",
        "    for step, batch in enumerate(data_loader):\n",
        "      optimizer.zero_grad()\n",
        "\n",
        "      #t = torch.randint(0, T, (BATCH_SIZE,), device=device).long()\n",
        "      #print('batch:', batch.shape)\n",
        "      x = batch.to(device)\n",
        "      n = len(x)\n",
        "      # Picking some noise for each of the images in the batch, a timestep and the respective alpha_bars\n",
        "      eta = torch.randn_like(x).to(device)\n",
        "      t = torch.randint(0, n_steps, (n,)).to(device)\n",
        "      # Computing the noisy image based on x0 and the time-step (forward process)\n",
        "      noisy_imgs = model(x, t, eta)\n",
        "\n",
        "      if noisy_imgs.shape[1] == 1:  # Si el modelo produce imágenes en escala de grises\n",
        "        noisy_imgs = torch.cat([noisy_imgs] * 3, dim=1)\n",
        "      # Getting model estimation of noise based on the images and the time-step\n",
        "      eta_theta = model.backward(noisy_imgs, t.reshape(n, -1))\n",
        "      #print(eta_theta.shape,eta.shape)\n",
        "      loss = mse(eta_theta, eta)\n",
        "      train_hist['loss'].append(loss.item())\n",
        "      loss.backward()\n",
        "      optimizer.step()\n",
        "\n",
        "      epoch_loss += loss.item() * len(x) / len(data_loader.dataset)\n",
        "    if epoch % 5 == 0:\n",
        "      print(f\"Epoch {epoch} | step {step:03d} Loss: {loss.item()} \")\n",
        "      img=generate_new_images(model,n_samples=4, device=device)\n",
        "      #, f\"Images generated at epoch {epoch + 1}\"\n",
        "      show_tensor_image(img.detach().cpu(),False)\n",
        "      plt.title(f\"Images generated at epoch {epoch + 1}\")\n",
        "      plt.show()\n",
        "    log_string = f\"Loss at epoch {epoch + 1}: {epoch_loss:.3f}\"\n",
        "    # Storing the model\n",
        "    if best_loss > epoch_loss:\n",
        "        best_loss = epoch_loss\n",
        "        torch.save(model.state_dict(), os.path.join(save_dir, 'testing.pt'))\n",
        "        log_string += \" --> Best model ever (stored)\"\n",
        "    print(log_string)"
      ]
    },
    {
      "cell_type": "code",
      "execution_count": null,
      "id": "c2d5fd33",
      "metadata": {
        "id": "c2d5fd33"
      },
      "outputs": [],
      "source": [
        "torch.save(model.state_dict(), os.path.join(save_dir, '32_relu_diffusion_model_200_epoch.pt'))"
      ]
    },
    {
      "cell_type": "markdown",
      "id": "528c21ef",
      "metadata": {
        "id": "528c21ef"
      },
      "source": [
        "## Denoising image"
      ]
    },
    {
      "cell_type": "code",
      "execution_count": null,
      "id": "97c7d805",
      "metadata": {
        "id": "97c7d805",
        "colab": {
          "base_uri": "https://localhost:8080/",
          "height": 107
        },
        "outputId": "5e78af9a-2943-4327-bd29-cd5c0f78ffee"
      },
      "outputs": [
        {
          "output_type": "stream",
          "name": "stdout",
          "text": [
            "8\n"
          ]
        },
        {
          "output_type": "display_data",
          "data": {
            "text/plain": [
              "<Figure size 640x480 with 8 Axes>"
            ],
            "image/png": "[encoded data removed]"
          },
          "metadata": {}
        }
      ],
      "source": [
        "# Denoising\n",
        "model.load_state_dict(torch.load(os.path.join(save_dir, '32_relu_diffusion_model_200_epoch.pt')))\n",
        "imgs=generate_new_images(model,n_samples=1, device=device,process=True)\n",
        "      #, f\"Images generated at epoch {epoch + 1}\"\n",
        "print(len(imgs))\n",
        "for idx,img in enumerate(imgs):\n",
        "      plt.subplot(1, 7 + 1, idx + 1)\n",
        "      show_tensor_image(img.detach().cpu(),False)"
      ]
    },
    {
      "cell_type": "code",
      "execution_count": null,
      "id": "ff74d8ab",
      "metadata": {
        "id": "ff74d8ab",
        "colab": {
          "base_uri": "https://localhost:8080/",
          "height": 449
        },
        "outputId": "d087c4f6-3d39-4734-b14b-2caf6f61d06f"
      },
      "outputs": [
        {
          "output_type": "display_data",
          "data": {
            "text/plain": [
              "<Figure size 640x480 with 1 Axes>"
            ],
            "image/png": "[encoded data removed]"
          },
          "metadata": {}
        }
      ],
      "source": [
        "fig = plt.figure()\n",
        "plt.plot(train_hist['loss'])\n",
        "plt.xlabel('Epochs')\n",
        "plt.ylabel('Loss')\n",
        "plt.show()"
      ]
    },
    {
      "cell_type": "markdown",
      "id": "33d6f513",
      "metadata": {
        "id": "33d6f513"
      },
      "source": [
        "## Generating Images\n",
        "- Use `torch` to generate some noise as images.\n",
        "- Use `torchvision.utils.save_image` to save `torch.Tensor` as an `png` image file."
      ]
    },
    {
      "cell_type": "code",
      "execution_count": null,
      "id": "53f9e586",
      "metadata": {
        "id": "53f9e586",
        "colab": {
          "base_uri": "https://localhost:8080/",
          "height": 445
        },
        "outputId": "a770650f-4812-45aa-be29-c9a58538aa08"
      },
      "outputs": [
        {
          "output_type": "stream",
          "name": "stdout",
          "text": [
            "Saving 00001.png\n"
          ]
        },
        {
          "output_type": "error",
          "ename": "TypeError",
          "evalue": "Cannot handle this data type: (1, 1, 28), |u1",
          "traceback": [
            "\u001b[0;31m---------------------------------------------------------------------------\u001b[0m",
            "\u001b[0;31mKeyError\u001b[0m                                  Traceback (most recent call last)",
            "\u001b[0;32m/usr/local/lib/python3.10/dist-packages/PIL/Image.py\u001b[0m in \u001b[0;36mfromarray\u001b[0;34m(obj, mode)\u001b[0m\n\u001b[1;32m   3079\u001b[0m         \u001b[0;32mtry\u001b[0m\u001b[0;34m:\u001b[0m\u001b[0;34m\u001b[0m\u001b[0;34m\u001b[0m\u001b[0m\n\u001b[0;32m-> 3080\u001b[0;31m             \u001b[0mmode\u001b[0m\u001b[0;34m,\u001b[0m \u001b[0mrawmode\u001b[0m \u001b[0;34m=\u001b[0m \u001b[0m_fromarray_typemap\u001b[0m\u001b[0;34m[\u001b[0m\u001b[0mtypekey\u001b[0m\u001b[0;34m]\u001b[0m\u001b[0;34m\u001b[0m\u001b[0;34m\u001b[0m\u001b[0m\n\u001b[0m\u001b[1;32m   3081\u001b[0m         \u001b[0;32mexcept\u001b[0m \u001b[0mKeyError\u001b[0m \u001b[0;32mas\u001b[0m \u001b[0me\u001b[0m\u001b[0;34m:\u001b[0m\u001b[0;34m\u001b[0m\u001b[0;34m\u001b[0m\u001b[0m\n",
            "\u001b[0;31mKeyError\u001b[0m: ((1, 1, 28), '|u1')",
            "\nThe above exception was the direct cause of the following exception:\n",
            "\u001b[0;31mTypeError\u001b[0m                                 Traceback (most recent call last)",
            "\u001b[0;32m<ipython-input-176-2172c185f0b9>\u001b[0m in \u001b[0;36m<cell line: 17>\u001b[0;34m()\u001b[0m\n\u001b[1;32m     15\u001b[0m         \u001b[0msave_image\u001b[0m\u001b[0;34m(\u001b[0m\u001b[0mimage\u001b[0m\u001b[0;34m,\u001b[0m \u001b[0mpath\u001b[0m\u001b[0;34m)\u001b[0m\u001b[0;34m\u001b[0m\u001b[0;34m\u001b[0m\u001b[0m\n\u001b[1;32m     16\u001b[0m \u001b[0;34m\u001b[0m\u001b[0m\n\u001b[0;32m---> 17\u001b[0;31m \u001b[0mplot_result_image\u001b[0m\u001b[0;34m(\u001b[0m\u001b[0;34m)\u001b[0m\u001b[0;34m\u001b[0m\u001b[0;34m\u001b[0m\u001b[0m\n\u001b[0m",
            "\u001b[0;32m/usr/local/lib/python3.10/dist-packages/torch/utils/_contextlib.py\u001b[0m in \u001b[0;36mdecorate_context\u001b[0;34m(*args, **kwargs)\u001b[0m\n\u001b[1;32m    113\u001b[0m     \u001b[0;32mdef\u001b[0m \u001b[0mdecorate_context\u001b[0m\u001b[0;34m(\u001b[0m\u001b[0;34m*\u001b[0m\u001b[0margs\u001b[0m\u001b[0;34m,\u001b[0m \u001b[0;34m**\u001b[0m\u001b[0mkwargs\u001b[0m\u001b[0;34m)\u001b[0m\u001b[0;34m:\u001b[0m\u001b[0;34m\u001b[0m\u001b[0;34m\u001b[0m\u001b[0m\n\u001b[1;32m    114\u001b[0m         \u001b[0;32mwith\u001b[0m \u001b[0mctx_factory\u001b[0m\u001b[0;34m(\u001b[0m\u001b[0;34m)\u001b[0m\u001b[0;34m:\u001b[0m\u001b[0;34m\u001b[0m\u001b[0;34m\u001b[0m\u001b[0m\n\u001b[0;32m--> 115\u001b[0;31m             \u001b[0;32mreturn\u001b[0m \u001b[0mfunc\u001b[0m\u001b[0;34m(\u001b[0m\u001b[0;34m*\u001b[0m\u001b[0margs\u001b[0m\u001b[0;34m,\u001b[0m \u001b[0;34m**\u001b[0m\u001b[0mkwargs\u001b[0m\u001b[0;34m)\u001b[0m\u001b[0;34m\u001b[0m\u001b[0;34m\u001b[0m\u001b[0m\n\u001b[0m\u001b[1;32m    116\u001b[0m \u001b[0;34m\u001b[0m\u001b[0m\n\u001b[1;32m    117\u001b[0m     \u001b[0;32mreturn\u001b[0m \u001b[0mdecorate_context\u001b[0m\u001b[0;34m\u001b[0m\u001b[0;34m\u001b[0m\u001b[0m\n",
            "\u001b[0;32m<ipython-input-176-2172c185f0b9>\u001b[0m in \u001b[0;36mplot_result_image\u001b[0;34m()\u001b[0m\n\u001b[1;32m     13\u001b[0m         \u001b[0mimage\u001b[0m \u001b[0;34m=\u001b[0m \u001b[0;34m(\u001b[0m\u001b[0mimage\u001b[0m \u001b[0;34m+\u001b[0m \u001b[0;36m1\u001b[0m\u001b[0;34m)\u001b[0m \u001b[0;34m/\u001b[0m \u001b[0;36m2\u001b[0m  \u001b[0;31m# Desnormalizar la imagen si es necesario\u001b[0m\u001b[0;34m\u001b[0m\u001b[0;34m\u001b[0m\u001b[0m\n\u001b[1;32m     14\u001b[0m         \u001b[0mprint\u001b[0m\u001b[0;34m(\u001b[0m\u001b[0;34mf'Saving {j+1:05d}.png'\u001b[0m\u001b[0;34m)\u001b[0m\u001b[0;34m\u001b[0m\u001b[0;34m\u001b[0m\u001b[0m\n\u001b[0;32m---> 15\u001b[0;31m         \u001b[0msave_image\u001b[0m\u001b[0;34m(\u001b[0m\u001b[0mimage\u001b[0m\u001b[0;34m,\u001b[0m \u001b[0mpath\u001b[0m\u001b[0;34m)\u001b[0m\u001b[0;34m\u001b[0m\u001b[0;34m\u001b[0m\u001b[0m\n\u001b[0m\u001b[1;32m     16\u001b[0m \u001b[0;34m\u001b[0m\u001b[0m\n\u001b[1;32m     17\u001b[0m \u001b[0mplot_result_image\u001b[0m\u001b[0;34m(\u001b[0m\u001b[0;34m)\u001b[0m\u001b[0;34m\u001b[0m\u001b[0;34m\u001b[0m\u001b[0m\n",
            "\u001b[0;32m/usr/local/lib/python3.10/dist-packages/torch/utils/_contextlib.py\u001b[0m in \u001b[0;36mdecorate_context\u001b[0;34m(*args, **kwargs)\u001b[0m\n\u001b[1;32m    113\u001b[0m     \u001b[0;32mdef\u001b[0m \u001b[0mdecorate_context\u001b[0m\u001b[0;34m(\u001b[0m\u001b[0;34m*\u001b[0m\u001b[0margs\u001b[0m\u001b[0;34m,\u001b[0m \u001b[0;34m**\u001b[0m\u001b[0mkwargs\u001b[0m\u001b[0;34m)\u001b[0m\u001b[0;34m:\u001b[0m\u001b[0;34m\u001b[0m\u001b[0;34m\u001b[0m\u001b[0m\n\u001b[1;32m    114\u001b[0m         \u001b[0;32mwith\u001b[0m \u001b[0mctx_factory\u001b[0m\u001b[0;34m(\u001b[0m\u001b[0;34m)\u001b[0m\u001b[0;34m:\u001b[0m\u001b[0;34m\u001b[0m\u001b[0;34m\u001b[0m\u001b[0m\n\u001b[0;32m--> 115\u001b[0;31m             \u001b[0;32mreturn\u001b[0m \u001b[0mfunc\u001b[0m\u001b[0;34m(\u001b[0m\u001b[0;34m*\u001b[0m\u001b[0margs\u001b[0m\u001b[0;34m,\u001b[0m \u001b[0;34m**\u001b[0m\u001b[0mkwargs\u001b[0m\u001b[0;34m)\u001b[0m\u001b[0;34m\u001b[0m\u001b[0;34m\u001b[0m\u001b[0m\n\u001b[0m\u001b[1;32m    116\u001b[0m \u001b[0;34m\u001b[0m\u001b[0m\n\u001b[1;32m    117\u001b[0m     \u001b[0;32mreturn\u001b[0m \u001b[0mdecorate_context\u001b[0m\u001b[0;34m\u001b[0m\u001b[0;34m\u001b[0m\u001b[0m\n",
            "\u001b[0;32m/usr/local/lib/python3.10/dist-packages/torchvision/utils.py\u001b[0m in \u001b[0;36msave_image\u001b[0;34m(tensor, fp, format, **kwargs)\u001b[0m\n\u001b[1;32m    147\u001b[0m     \u001b[0;31m# Add 0.5 after unnormalizing to [0, 255] to round to the nearest integer\u001b[0m\u001b[0;34m\u001b[0m\u001b[0;34m\u001b[0m\u001b[0m\n\u001b[1;32m    148\u001b[0m     \u001b[0mndarr\u001b[0m \u001b[0;34m=\u001b[0m \u001b[0mgrid\u001b[0m\u001b[0;34m.\u001b[0m\u001b[0mmul\u001b[0m\u001b[0;34m(\u001b[0m\u001b[0;36m255\u001b[0m\u001b[0;34m)\u001b[0m\u001b[0;34m.\u001b[0m\u001b[0madd_\u001b[0m\u001b[0;34m(\u001b[0m\u001b[0;36m0.5\u001b[0m\u001b[0;34m)\u001b[0m\u001b[0;34m.\u001b[0m\u001b[0mclamp_\u001b[0m\u001b[0;34m(\u001b[0m\u001b[0;36m0\u001b[0m\u001b[0;34m,\u001b[0m \u001b[0;36m255\u001b[0m\u001b[0;34m)\u001b[0m\u001b[0;34m.\u001b[0m\u001b[0mpermute\u001b[0m\u001b[0;34m(\u001b[0m\u001b[0;36m1\u001b[0m\u001b[0;34m,\u001b[0m \u001b[0;36m2\u001b[0m\u001b[0;34m,\u001b[0m \u001b[0;36m0\u001b[0m\u001b[0;34m)\u001b[0m\u001b[0;34m.\u001b[0m\u001b[0mto\u001b[0m\u001b[0;34m(\u001b[0m\u001b[0;34m\"cpu\"\u001b[0m\u001b[0;34m,\u001b[0m \u001b[0mtorch\u001b[0m\u001b[0;34m.\u001b[0m\u001b[0muint8\u001b[0m\u001b[0;34m)\u001b[0m\u001b[0;34m.\u001b[0m\u001b[0mnumpy\u001b[0m\u001b[0;34m(\u001b[0m\u001b[0;34m)\u001b[0m\u001b[0;34m\u001b[0m\u001b[0;34m\u001b[0m\u001b[0m\n\u001b[0;32m--> 149\u001b[0;31m     \u001b[0mim\u001b[0m \u001b[0;34m=\u001b[0m \u001b[0mImage\u001b[0m\u001b[0;34m.\u001b[0m\u001b[0mfromarray\u001b[0m\u001b[0;34m(\u001b[0m\u001b[0mndarr\u001b[0m\u001b[0;34m)\u001b[0m\u001b[0;34m\u001b[0m\u001b[0;34m\u001b[0m\u001b[0m\n\u001b[0m\u001b[1;32m    150\u001b[0m     \u001b[0mim\u001b[0m\u001b[0;34m.\u001b[0m\u001b[0msave\u001b[0m\u001b[0;34m(\u001b[0m\u001b[0mfp\u001b[0m\u001b[0;34m,\u001b[0m \u001b[0mformat\u001b[0m\u001b[0;34m=\u001b[0m\u001b[0mformat\u001b[0m\u001b[0;34m)\u001b[0m\u001b[0;34m\u001b[0m\u001b[0;34m\u001b[0m\u001b[0m\n\u001b[1;32m    151\u001b[0m \u001b[0;34m\u001b[0m\u001b[0m\n",
            "\u001b[0;32m/usr/local/lib/python3.10/dist-packages/PIL/Image.py\u001b[0m in \u001b[0;36mfromarray\u001b[0;34m(obj, mode)\u001b[0m\n\u001b[1;32m   3081\u001b[0m         \u001b[0;32mexcept\u001b[0m \u001b[0mKeyError\u001b[0m \u001b[0;32mas\u001b[0m \u001b[0me\u001b[0m\u001b[0;34m:\u001b[0m\u001b[0;34m\u001b[0m\u001b[0;34m\u001b[0m\u001b[0m\n\u001b[1;32m   3082\u001b[0m             \u001b[0mmsg\u001b[0m \u001b[0;34m=\u001b[0m \u001b[0;34m\"Cannot handle this data type: %s, %s\"\u001b[0m \u001b[0;34m%\u001b[0m \u001b[0mtypekey\u001b[0m\u001b[0;34m\u001b[0m\u001b[0;34m\u001b[0m\u001b[0m\n\u001b[0;32m-> 3083\u001b[0;31m             \u001b[0;32mraise\u001b[0m \u001b[0mTypeError\u001b[0m\u001b[0;34m(\u001b[0m\u001b[0mmsg\u001b[0m\u001b[0;34m)\u001b[0m \u001b[0;32mfrom\u001b[0m \u001b[0me\u001b[0m\u001b[0;34m\u001b[0m\u001b[0;34m\u001b[0m\u001b[0m\n\u001b[0m\u001b[1;32m   3084\u001b[0m     \u001b[0;32melse\u001b[0m\u001b[0;34m:\u001b[0m\u001b[0;34m\u001b[0m\u001b[0;34m\u001b[0m\u001b[0m\n\u001b[1;32m   3085\u001b[0m         \u001b[0mrawmode\u001b[0m \u001b[0;34m=\u001b[0m \u001b[0mmode\u001b[0m\u001b[0;34m\u001b[0m\u001b[0;34m\u001b[0m\u001b[0m\n",
            "\u001b[0;31mTypeError\u001b[0m: Cannot handle this data type: (1, 1, 28), |u1"
          ]
        }
      ],
      "source": [
        "#model.load_state_dict(torch.load(os.path.join(save_dir, 'new_diffusion_model_100_epoch_best_29.pt')))\n",
        "#model.to(device)\n",
        "@torch.no_grad()\n",
        "def plot_result_image():\n",
        "    # Sample noise\n",
        "    num_images = 10000\n",
        "    os.makedirs('/content/zip_extraido', exist_ok=True)\n",
        "    for j in range(num_images):\n",
        "        path = os.path.join(f'/content/zip_extraido/{j+1:05d}.png')\n",
        "        image = generate_new_images(model, n_samples=1, device=device)\n",
        "        image = image.squeeze().detach().cpu()  # Eliminar dimensiones unitarias y mover a CPU\n",
        "        image = image.permute(1, 2, 0)  # Cambiar orden de dimensiones a HWC\n",
        "        image = (image + 1) / 2  # Desnormalizar la imagen si es necesario\n",
        "        print(f'Saving {j+1:05d}.png')\n",
        "        save_image(image, path)\n",
        "\n",
        "plot_result_image()"
      ]
    },
    {
      "cell_type": "markdown",
      "id": "cd166708",
      "metadata": {
        "id": "cd166708"
      },
      "source": [
        "## Evaluate Generated Images at Runtime\n",
        "- Use `torchvision.io.read_image` to load all images into memory one by one.\n",
        "- Use `pytorch_gan_metrics.get_fid` to calculate FID between generated images in `./images` and our dataset (`mnist.npz`).\n",
        "\n",
        "    The following is the document about how to use `get_fid` for reference.\n",
        "    ```python\n",
        "    from pytorch_gan_metrics import get_fid\n",
        "\n",
        "    images = ...                                    # [N, 3, H, W] normalized to [0, 1]\n",
        "    FID = get_fid(images, 'path/to/statistics.npz') # Frechet Inception Distance\n",
        "    ```\n",
        "\n",
        "The output FID should be the same as Checkpoint 2 (round to two decimal places)."
      ]
    },
    {
      "cell_type": "code",
      "execution_count": null,
      "id": "536956d9",
      "metadata": {
        "id": "536956d9"
      },
      "outputs": [],
      "source": [
        "from pytorch_gan_metrics import get_fid\n",
        "from torchvision.io import read_image\n",
        "num_images = 10000\n",
        "images = []\n",
        "for i in range(num_images):\n",
        "    path = os.path.join(f'./images/{i+1:05d}.png')\n",
        "    image = read_image(path) / 255.\n",
        "    images.append(image)\n",
        "images = torch.stack(images, dim=0)\n",
        "FID = get_fid(images,'./mnist.npz')\n",
        "print(f'{FID:.5f}')"
      ]
    },
    {
      "cell_type": "markdown",
      "id": "f83b21df",
      "metadata": {
        "id": "f83b21df"
      },
      "source": [
        "---\n",
        "\n",
        "## Use `torchvision` to Save Grid Images"
      ]
    },
    {
      "cell_type": "code",
      "execution_count": null,
      "id": "e249b293",
      "metadata": {
        "id": "e249b293"
      },
      "outputs": [],
      "source": [
        "for i in range(8):\n",
        "    print('Images idx: ',i)\n",
        "    imgs = generate_new_images(model,n_samples=1, device=device,process=True)\n",
        "    #print(imgs.shape)\n",
        "    imge=show_tensor_image(imgs.detach().cpu(),True)\n",
        "    #save_image(imge,'tmp.png')\n",
        "    if i == 0:\n",
        "        grid_imgs=imgs\n",
        "    else:\n",
        "        grid_imgs=torch.cat((grid_imgs,imgs),0)\n",
        "    #print(grid_imgs.shape)\n"
      ]
    },
    {
      "cell_type": "code",
      "execution_count": null,
      "id": "dddc2ea9",
      "metadata": {
        "id": "dddc2ea9"
      },
      "outputs": [],
      "source": [
        "from PIL import Image\n",
        "images = []\n",
        "os.makedirs('./result', exist_ok=True)\n",
        "for i in range(64):\n",
        "    save_image( grid_imgs[i, :, :, :] ,f'./result/tmp_{i}.png',nrow=8,normalize=True)\n",
        "\n",
        "result_data = []\n",
        "transform_result=transforms.ToTensor()\n",
        "for i in range(8):\n",
        "    for j in range(8):\n",
        "        im_path = f'./result/tmp_{i+8*j}.png'\n",
        "        x =transform_result(Image.open(im_path))\n",
        "        #print(x.shape)\n",
        "        result_data.append( transform_result(Image.open(im_path)))"
      ]
    },
    {
      "cell_type": "code",
      "execution_count": null,
      "id": "202e10ba",
      "metadata": {
        "id": "202e10ba"
      },
      "outputs": [],
      "source": [
        "from IPython.display import Image, display\n",
        "\n",
        "img = make_grid(result_data)\n",
        "save_image(img,'tmp.png', normalize=True)\n",
        "display(Image(filename='tmp.png'))"
      ]
    }
  ],
  "metadata": {
    "kernelspec": {
      "display_name": "Python 3",
      "name": "python3"
    },
    "language_info": {
      "codemirror_mode": {
        "name": "ipython",
        "version": 3
      },
      "file_extension": ".py",
      "mimetype": "text/x-python",
      "name": "python",
      "nbconvert_exporter": "python",
      "pygments_lexer": "ipython3",
      "version": "3.7.13"
    },
    "vscode": {
      "interpreter": {
        "hash": "8be34c3f14941094ba9c02dc298d6639feb690656e0fa02a8f38f062bf322064"
      }
    },
    "colab": {
      "provenance": [],
      "gpuType": "T4",
      "include_colab_link": true
    },
    "accelerator": "GPU"
  },
  "nbformat": 4,
  "nbformat_minor": 5
}